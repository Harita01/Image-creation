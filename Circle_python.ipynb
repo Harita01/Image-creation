{
 "cells": [
  {
   "cell_type": "code",
   "execution_count": 1,
   "metadata": {},
   "outputs": [],
   "source": [
    "import turtle\n",
    "from turtle import Turtle, Screen\n",
    "from PIL import Image\n",
    "from PIL import Image, EpsImagePlugin\n",
    "EpsImagePlugin.gs_windows_binary = r\"C:\\Program Files\\gs\\gs9.56.1\\bin\\gswin64c.exe\""
   ]
  },
  {
   "cell_type": "code",
   "execution_count": 2,
   "metadata": {},
   "outputs": [
    {
     "name": "stdout",
     "output_type": "stream",
     "text": [
      "Enter size of image in pixel (height, width) (eg. 100,200)\n",
      "200,300\n",
      "Enter the radius of the circle in pixel:\n",
      "20\n",
      "Enter the thickness of the circle in pixel:\n",
      "5\n",
      "Enter center of the circle in pixel coordinate (x, y) (eg. 150,150)\n",
      "20,30\n"
     ]
    }
   ],
   "source": [
    "def draw_circle(radius, x, y, thickness, width, height):\n",
    "    #screen = Screen()\n",
    "    #screen.setup(width, height)\n",
    "    #screen.setworldcoordinates(0, 0, width, height)\n",
    "    c = Turtle(visible=False)\n",
    "    c.penup()\n",
    "    c.goto(x, y)\n",
    "    c.pendown()\n",
    "    # Circle drawing starts here\n",
    "    c.width(radius * 2 + thickness)\n",
    "    c.forward(0)\n",
    "    c.color(\"black\")\n",
    "    c.width(radius * 2 - thickness)\n",
    "    c.forward(0)\n",
    "    # Circle drawing ends here\n",
    "    \n",
    "try:\n",
    "    image_size_y, image_size_x = [int(x) for x in input(\"Enter size of image in pixel (height, width) (eg. 100,200)\\n\").split(',')]\n",
    "    radius = int(input(\"Enter the radius of the circle in pixel:\\n\"))\n",
    "    if ((2*int(radius)) > int(image_size_x)) or ((2*int(radius)) > int(image_size_y)):\n",
    "        print(\"Radius should not be greater than image size.\")\n",
    "\n",
    "    thickness = int(input(\"Enter the thickness of the circle in pixel:\\n\"))\n",
    "    center_x, center_y = [int(x) for x in input(\"Enter center of the circle in pixel coordinate (x, y) (eg. 150,150)\\n\").split(',')]\n",
    "    #bob = turtle.Turtle()\n",
    "    #draw_background(bob)\n",
    "    draw_circle(radius, center_x, center_y, thickness, int(image_size_x), int(image_size_y))\n",
    "    cv = turtle.getcanvas()\n",
    "    cv.postscript(file=\"file_name.eps\", colormode='color')\n",
    "    img = Image.open(\"file_name.eps\")\n",
    "    img.save('circle.png', 'png')\n",
    "\n",
    "    turtle.done()\n",
    "\n",
    "except Exception as ex:\n",
    "    print(ex)"
   ]
  },
  {
   "cell_type": "code",
   "execution_count": null,
   "metadata": {},
   "outputs": [],
   "source": []
  }
 ],
 "metadata": {
  "kernelspec": {
   "display_name": "Python 3",
   "language": "python",
   "name": "python3"
  },
  "language_info": {
   "codemirror_mode": {
    "name": "ipython",
    "version": 3
   },
   "file_extension": ".py",
   "mimetype": "text/x-python",
   "name": "python",
   "nbconvert_exporter": "python",
   "pygments_lexer": "ipython3",
   "version": "3.8.5"
  }
 },
 "nbformat": 4,
 "nbformat_minor": 4
}
